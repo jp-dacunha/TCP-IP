{
 "cells": [
  {
   "cell_type": "markdown",
   "metadata": {},
   "source": [
    "<div style=\"width:100%; \n",
    "     display: block;\n",
    "     margin-left: auto;\n",
    "     margin-right: auto \"><img src=\"./img/entete.png\"></img></div>"
   ]
  },
  {
   "cell_type": "markdown",
   "metadata": {},
   "source": [
    "# <center> PROTOCOLES TCP/IP </center>"
   ]
  },
  {
   "cell_type": "markdown",
   "metadata": {},
   "source": [
    "## 1 – PROTOCOLES TCP/IP"
   ]
  },
  {
   "cell_type": "markdown",
   "metadata": {},
   "source": [
    "Le schéma réseau d’une salle du pôle technologique au lycée est le suivant :"
   ]
  },
  {
   "cell_type": "markdown",
   "metadata": {},
   "source": [
    "<div style=\"width:100%; \n",
    "     display: block;\n",
    "     margin-left: auto;\n",
    "     margin-right: auto \"><img src=\"./img/Reseau_lycee.png\"></img></div>"
   ]
  },
  {
   "cell_type": "markdown",
   "metadata": {},
   "source": [
    "*Il s’agit d’un **réseau local** utilisant les **protocoles TCP/IP**.*"
   ]
  },
  {
   "cell_type": "markdown",
   "metadata": {},
   "source": [
    "*La suite de **protocoles TCP/IP** (**T**ransmission **C**ontrol **P**rotocol/**I**nternet **P**rotocol) a été développée à partir de 1969 par la défense américaine. Sa mise en place réelle date des **années 80** avec la mise en place du réseau entre universités « **ARPANET** ». Elle doit son essor actuel au développement d’Internet et s’est imposée comme le modèle « **standard de fait** ». Elle a été adoptée sur les réseaux longues distances tel qu’Internet mais également dans la plupart des réseaux locaux d’entreprise.*"
   ]
  },
  {
   "cell_type": "markdown",
   "metadata": {},
   "source": [
    "*La suite de protocoles TCP/IP est construite sur un modèle en couches nommé **pile TCP/IP** ou **pile ARPA**. Ce modèle est composé de **4 couches**.*"
   ]
  },
  {
   "cell_type": "markdown",
   "metadata": {},
   "source": [
    "*Lors de chaque étape, des **informations supplémentaires** à savoir des informations de protocole, sont ajoutées au message. Lorsqu'une information passe d'une couche à une autre, le protocole qui **y ajoute** (**ou enlève**) un **En-tête** (header) qui lui est spécifique. On parle d'**encapsulation** (ou **décapsulation**) des données.*"
   ]
  },
  {
   "cell_type": "markdown",
   "metadata": {},
   "source": [
    "<table width=\"100%\"><tr><td width=\"10%\"><img src=\"./img/lampe.png\" width=\"70%\"></td><td width=\"90%\"><div style=\"font-size:10.5pt;font-weight:bold;text-align:left\">Voir le document ressource « Protocoles réseaux »</div></td></tr></table>"
   ]
  },
  {
   "cell_type": "markdown",
   "metadata": {},
   "source": [
    "<br>"
   ]
  },
  {
   "cell_type": "markdown",
   "metadata": {},
   "source": [
    "**Question 1** : Nommer les 4 couches du modèle « pile TCP-IP »."
   ]
  },
  {
   "cell_type": "markdown",
   "metadata": {},
   "source": [
    "<span style=\"color:#C00000;\">Les 4 couches de la pile TCP-IP sont : la couche **APPLICATION**, la couche **TRANSPORT**, la couche **INTERNET** et la couche **INTERFACE**.</span>"
   ]
  },
  {
   "cell_type": "markdown",
   "metadata": {},
   "source": [
    "<br>"
   ]
  },
  {
   "cell_type": "markdown",
   "metadata": {},
   "source": [
    "**Question 2** : Compléter le schéma suivant, en nommant les informations transmises par chaque élément de la trame :"
   ]
  },
  {
   "cell_type": "markdown",
   "metadata": {},
   "source": [
    "<div style=\"width:80%; \n",
    "     display: block;\n",
    "     margin-left: auto;\n",
    "     margin-right: auto \"><img src=\"./img/trame.png\"></img></div>"
   ]
  },
  {
   "cell_type": "markdown",
   "metadata": {},
   "source": [
    "<div style=\"width:80%; \n",
    "     display: block;\n",
    "     margin-left: auto;\n",
    "     margin-right: auto \"><img src=\"./img/trame_c.png\"></img></div>"
   ]
  },
  {
   "cell_type": "markdown",
   "metadata": {},
   "source": [
    "**Question 3** : Lancer l’invite de commande (cmd). Exécuter la commande « **ipconfig /all**». Relever l’adresse IP et l’adresse MAC de l’ordinateur."
   ]
  },
  {
   "cell_type": "markdown",
   "metadata": {},
   "source": [
    "<div style=\"width:60%; \n",
    "     display: block;\n",
    "     margin-left: auto;\n",
    "     margin-right: auto \"><img src=\"./img/ipconfig_c.png\"></img></div>"
   ]
  },
  {
   "cell_type": "markdown",
   "metadata": {},
   "source": [
    "<span style=\"color:#C00000;\">Adresse IP : **172.20.250.162**, Adresse MAC : **00:01:6c:94:70:58**</span>"
   ]
  },
  {
   "cell_type": "markdown",
   "metadata": {},
   "source": [
    "<br>"
   ]
  },
  {
   "cell_type": "markdown",
   "metadata": {},
   "source": [
    "## 2 – COMMANDE PING ET PROTOCOLE ICMP"
   ]
  },
  {
   "cell_type": "markdown",
   "metadata": {},
   "source": [
    "### 2.1 – Commande ping"
   ]
  },
  {
   "cell_type": "markdown",
   "metadata": {},
   "source": [
    "*La commande « ping » teste la connexion entre deux machines à travers un réseau. Cette commande met en œuvre le protocole **ICMP** (Internet Control Message Protocol).*\n"
   ]
  },
  {
   "cell_type": "markdown",
   "metadata": {},
   "source": [
    "*Par exemple, la commande « **ping 172.1.1.99** » permet de vérifier que votre PC communique avec le poste 172.1.1.99*.\n"
   ]
  },
  {
   "cell_type": "markdown",
   "metadata": {},
   "source": [
    "**Question 4** : Relever l’adresse IP et l’adresse MAC d’un ordinateur voisin. Tester la communication avec l’ordinateur voisin. Justifier le résultat obtenu."
   ]
  },
  {
   "cell_type": "markdown",
   "metadata": {},
   "source": [
    "<span style=\"color:#C00000;\">Adresse IP : **172.20.250.180**,\t\tAdresse MAC : **c4:34:6b:59:48:ff**</span>"
   ]
  },
  {
   "cell_type": "markdown",
   "metadata": {},
   "source": [
    "<div style=\"width:80%; \n",
    "     display: block;\n",
    "     margin-left: auto;\n",
    "     margin-right: auto \"><img src=\"./img/ping_c.png\"></img></div>"
   ]
  },
  {
   "cell_type": "markdown",
   "metadata": {},
   "source": [
    "<span style=\"color:#C00000;\">La communication est possible car les machines **appartiennent toutes les deux au réseau du lycée**.</span>"
   ]
  },
  {
   "cell_type": "markdown",
   "metadata": {},
   "source": [
    "<br>"
   ]
  },
  {
   "cell_type": "markdown",
   "metadata": {},
   "source": [
    "**Question 5** : Indiquer combien de demandes d’Echo sont réalisées lors de l’exécution de la commande « ping »."
   ]
  },
  {
   "cell_type": "markdown",
   "metadata": {},
   "source": [
    "<span style=\"color:#C00000;\">Il y a **4 demandes d’Echo** envoyées et **4 réponses reçues**.</span>"
   ]
  },
  {
   "cell_type": "markdown",
   "metadata": {},
   "source": [
    "<br>"
   ]
  },
  {
   "cell_type": "markdown",
   "metadata": {},
   "source": [
    "### 2.2 – Capture de trame"
   ]
  },
  {
   "cell_type": "markdown",
   "metadata": {},
   "source": [
    "*L’analyseur de protocole **WireShark** est un logiciel qui permet de récupérer toutes les trames envoyées ou reçues par la carte réseau.*"
   ]
  },
  {
   "cell_type": "markdown",
   "metadata": {},
   "source": [
    "<table width=\"100%\"><tr><td width=\"10%\"><img src=\"./img/lampe.png\" width=\"70%\"></td><td width=\"90%\"><div style=\"font-size:10.5pt;font-weight:bold;text-align:left\">Voir le document ressource « Utilisation du logiciel Wireshark »</div></td></tr></table>"
   ]
  },
  {
   "cell_type": "markdown",
   "metadata": {},
   "source": [
    "**Question 6** : Lancer le logiciel Wireshark (**Attention ne pas lancer la capture pour l’instant**). Sélectionner la carte réseau Ethernet."
   ]
  },
  {
   "cell_type": "markdown",
   "metadata": {},
   "source": [
    "<div style=\"width:50%; \n",
    "     display: block;\n",
    "     margin-left: auto;\n",
    "     margin-right: auto \"><img src=\"./img/wireshark1_c.png\"></img></div>"
   ]
  },
  {
   "cell_type": "markdown",
   "metadata": {},
   "source": [
    "<br>"
   ]
  },
  {
   "cell_type": "markdown",
   "metadata": {},
   "source": [
    "**Question 7** : Taper, l’invite de commande, la commande « ping » sur une adresse IP de l’ordinateur voisin **sans la valider pour l’instant**."
   ]
  },
  {
   "cell_type": "markdown",
   "metadata": {},
   "source": [
    "<div style=\"width:80%; \n",
    "     display: block;\n",
    "     margin-left: auto;\n",
    "     margin-right: auto \"><img src=\"./img/ping2_c.png\"></img></div>"
   ]
  },
  {
   "cell_type": "markdown",
   "metadata": {},
   "source": [
    "<br>"
   ]
  },
  {
   "cell_type": "markdown",
   "metadata": {},
   "source": [
    "**Question 8** : Lancer la capture sur le logiciel Wireshark. Valider la commande « ping ». Arrêter la capture une fois l’exécution de la commande « ping » terminée."
   ]
  },
  {
   "cell_type": "markdown",
   "metadata": {},
   "source": [
    "<div style=\"width:80%; \n",
    "     display: block;\n",
    "     margin-left: auto;\n",
    "     margin-right: auto \"><img src=\"./img/ping3_c.png\"></img></div>"
   ]
  },
  {
   "cell_type": "markdown",
   "metadata": {},
   "source": [
    "<br>"
   ]
  },
  {
   "cell_type": "markdown",
   "metadata": {},
   "source": [
    "**Question 9** : Enregistrer la capture sous le nom « PING »."
   ]
  },
  {
   "cell_type": "markdown",
   "metadata": {},
   "source": [
    "<div style=\"width:80%; \n",
    "     display: block;\n",
    "     margin-left: auto;\n",
    "     margin-right: auto \"><img src=\"./img/wireshark2_c.png\"></img></div>"
   ]
  },
  {
   "cell_type": "markdown",
   "metadata": {},
   "source": [
    "<br>"
   ]
  },
  {
   "cell_type": "markdown",
   "metadata": {},
   "source": [
    "*Le logiciel Wireshark a récupéré toutes les trames en provenance ou à destination de la carte réseau de l’ordinateur. Elles ne concernent pas toutes la commande « ping » réalisée précédemment. Il est possible de filtrer les trames acquises afin de n’afficher que les trames intéressantes. En appliquant le filtre « **icmp** », on ne conserve que les trames dont le protocole est ICMP*."
   ]
  },
  {
   "cell_type": "markdown",
   "metadata": {},
   "source": [
    "<br>"
   ]
  },
  {
   "cell_type": "markdown",
   "metadata": {},
   "source": [
    "**Question 10** : Taper dans le champ « Filter » l’expression **icmp**. Cliquer sur « Apply »."
   ]
  },
  {
   "cell_type": "markdown",
   "metadata": {},
   "source": [
    "<div style=\"width:70%; \n",
    "     display: block;\n",
    "     margin-left: auto;\n",
    "     margin-right: auto \"><img src=\"./img/wireshark3.png\"></img></div>"
   ]
  },
  {
   "cell_type": "markdown",
   "metadata": {},
   "source": [
    "<div style=\"width:80%; \n",
    "     display: block;\n",
    "     margin-left: auto;\n",
    "     margin-right: auto \"><img src=\"./img/wireshark4_c.png\"></img></div>"
   ]
  },
  {
   "cell_type": "markdown",
   "metadata": {},
   "source": [
    "<br>"
   ]
  },
  {
   "cell_type": "markdown",
   "metadata": {},
   "source": [
    "**Question 11** : Justifier le nombre de trames conservées."
   ]
  },
  {
   "cell_type": "markdown",
   "metadata": {},
   "source": [
    "<span style=\"color:#C00000;\">Après l’application du filtre, **8 trames** ont été conservées. Les **4 trames de demande d’Echo** et les **4 trames de réponse** à la demande d’Echo.</span>"
   ]
  },
  {
   "cell_type": "markdown",
   "metadata": {},
   "source": [
    "<br>"
   ]
  },
  {
   "cell_type": "markdown",
   "metadata": {},
   "source": [
    "### 2.3 – Trame de demande d’Echo"
   ]
  },
  {
   "cell_type": "markdown",
   "metadata": {},
   "source": [
    "*Parmi les trames affichées, il y a des trames de demande d’Echo « Echo (Ping) request » et les trames de réponse à la demande d’Echo « Echo (Ping) reply ».*"
   ]
  },
  {
   "cell_type": "markdown",
   "metadata": {},
   "source": [
    "<table width=\"100%\"><tr><td width=\"10%\"><img src=\"./img/lampe.png\" width=\"70%\"></td><td width=\"90%\"><div style=\"font-size:10.5pt;font-weight:bold;text-align:left\">Voir le document ressource « Protocole ICMP »</div></td></tr></table>"
   ]
  },
  {
   "cell_type": "markdown",
   "metadata": {},
   "source": [
    "**Question 12** : Sélectionner une trame de demande d’Echo « Echo (Ping) request »."
   ]
  },
  {
   "cell_type": "markdown",
   "metadata": {},
   "source": [
    "<div style=\"width:80%; \n",
    "     display: block;\n",
    "     margin-left: auto;\n",
    "     margin-right: auto \"><img src=\"./img/wireshark5_c.png\"></img></div>"
   ]
  },
  {
   "cell_type": "markdown",
   "metadata": {},
   "source": [
    "<br>"
   ]
  },
  {
   "cell_type": "markdown",
   "metadata": {},
   "source": [
    "*La couche « **Ethernet** » ou « **Interface** » assure la transmission des données sur le support physique.* "
   ]
  },
  {
   "cell_type": "markdown",
   "metadata": {},
   "source": [
    "**Question 13** : Sélectionner la couche « Ethernet » (Interface) de cette trame de demande d’Echo. Compléter, les informations de la couche Ethernet sur le tableau ci-dessous. Justifier les différentes valeurs."
   ]
  },
  {
   "cell_type": "markdown",
   "metadata": {},
   "source": [
    "<div style=\"width:80%; \n",
    "     display: block;\n",
    "     margin-left: auto;\n",
    "     margin-right: auto \"><img src=\"./img/DR1.png\"></img></div>"
   ]
  },
  {
   "cell_type": "markdown",
   "metadata": {},
   "source": [
    "<div style=\"width:80%; \n",
    "     display: block;\n",
    "     margin-left: auto;\n",
    "     margin-right: auto \"><img src=\"./img/wireshark6_c.png\"></img></div>"
   ]
  },
  {
   "cell_type": "markdown",
   "metadata": {},
   "source": [
    "<div style=\"width:80%; \n",
    "     display: block;\n",
    "     margin-left: auto;\n",
    "     margin-right: auto \"><img src=\"./img/DR1_1_c.png\"></img></div>"
   ]
  },
  {
   "cell_type": "markdown",
   "metadata": {},
   "source": [
    "<span style=\"color:#C00000;\">La demande d’Echo est établie par votre ordinateur à destination de l’ordinateur voisin. **L’adresse MAC source** correspond à **l’adresse physique de votre carte réseau** et **l’adresse MAC destinataire** correspond à **l’adresse physique de la carte réseau de l’ordinateur voisin**.</span>\n",
    "\n",
    "<span style=\"color:#C00000;\">L’Ethertype indique quel protocole est utilisé par la couche précédente (**Internet**). La valeur **0x800** correspond au **protocole IP**. Les messages ICMP sont bien encapsulés dans un **datagramme IP**.\n",
    "</span>"
   ]
  },
  {
   "cell_type": "markdown",
   "metadata": {},
   "source": [
    "<br>"
   ]
  },
  {
   "cell_type": "markdown",
   "metadata": {},
   "source": [
    "*La couche « **Internet** » (aussi appelée couche « Réseau ») **gère la communication entre deux machines**, notamment en **déterminant le chemin** que doit prendre la donnée, soit vers un ordinateur du réseau local, soit vers un autre réseau.*"
   ]
  },
  {
   "cell_type": "markdown",
   "metadata": {},
   "source": [
    "**Question 14** : Sélectionner la couche « IP » (Internet) de cette trame de demande d’Echo. Compléter, les informations de la couche Internet sur le tableau ci-dessus. Justifier les valeurs des adresses IP."
   ]
  },
  {
   "cell_type": "markdown",
   "metadata": {},
   "source": [
    "<div style=\"width:80%; \n",
    "     display: block;\n",
    "     margin-left: auto;\n",
    "     margin-right: auto \"><img src=\"./img/wireshark7_c.png\"></img></div>"
   ]
  },
  {
   "cell_type": "markdown",
   "metadata": {},
   "source": [
    "<div style=\"width:80%; \n",
    "     display: block;\n",
    "     margin-left: auto;\n",
    "     margin-right: auto \"><img src=\"./img/DR1_2_c.png\"></img></div>"
   ]
  },
  {
   "cell_type": "markdown",
   "metadata": {},
   "source": [
    "<span style=\"color:#C00000;\">La demande d’Echo est établie par votre ordinateur à destination de l’ordinateur voisin. **L’adresse IP source** correspond à **l’adresse IP de votre carte réseau** et **l’adresse IP destinataire** correspond à **l’adresse IP de l’ordinateur voisin**.</span>"
   ]
  },
  {
   "cell_type": "markdown",
   "metadata": {},
   "source": [
    "<br>"
   ]
  },
  {
   "cell_type": "markdown",
   "metadata": {},
   "source": [
    "*Le protocole **ICMP** (Internet Control Message Protocol) a pour fonction de **rendre compte des erreurs** qui ont pu être détectées pendant les communications dans les réseaux TCP/IP. Il fournit également des **messages de contrôle du réseau** pouvant servir à tester l’accessibilité à un hôte, ou à des fins de configuration. Les messages ICMP sont **encapsulés** et véhiculés comme des **datagrammes IP**.*"
   ]
  },
  {
   "cell_type": "markdown",
   "metadata": {},
   "source": [
    "**Question 15** : Sélectionner la couche « ICMP » de cette trame de demande d’Echo. Compléter, les informations de la couche ICMP sur le tableau ci-dessus. Justifier qu’il s’agit d’une demande d’Echo."
   ]
  },
  {
   "cell_type": "markdown",
   "metadata": {},
   "source": [
    "<div style=\"width:80%; \n",
    "     display: block;\n",
    "     margin-left: auto;\n",
    "     margin-right: auto \"><img src=\"./img/wireshark8_c.png\"></img></div>"
   ]
  },
  {
   "cell_type": "markdown",
   "metadata": {},
   "source": [
    "<div style=\"width:80%; \n",
    "     display: block;\n",
    "     margin-left: auto;\n",
    "     margin-right: auto \"><img src=\"./img/DR1_3_c.png\"></img></div>"
   ]
  },
  {
   "cell_type": "markdown",
   "metadata": {},
   "source": [
    "<span style=\"color:#C00000;\">Le type a pour valeur **8,** il s’agit donc un **message ICMP de demande d’Echo**.</span>"
   ]
  },
  {
   "cell_type": "markdown",
   "metadata": {},
   "source": [
    "<br>"
   ]
  },
  {
   "cell_type": "markdown",
   "metadata": {},
   "source": [
    "### 2.4 – Trame de réponse à une demande d’Echo"
   ]
  },
  {
   "cell_type": "markdown",
   "metadata": {},
   "source": [
    "*La trame de demande d’Echo est toujours suivie d’une trame de **réponse** à la demande d’Echo ICMP « **Echo (Ping) reply** »*. "
   ]
  },
  {
   "cell_type": "markdown",
   "metadata": {},
   "source": [
    "**Question 16** : Sélectionner, dans la capture des trames précédente, une trame de réponse « Echo (Ping) reply »."
   ]
  },
  {
   "cell_type": "markdown",
   "metadata": {},
   "source": [
    "<div style=\"width:80%; \n",
    "     display: block;\n",
    "     margin-left: auto;\n",
    "     margin-right: auto \"><img src=\"./img/wireshark9_c.png\"></img></div>"
   ]
  },
  {
   "cell_type": "markdown",
   "metadata": {},
   "source": [
    "<br>"
   ]
  },
  {
   "cell_type": "markdown",
   "metadata": {},
   "source": [
    "**Question 17** : Sélectionner la couche « Ethernet » (Interface) de cette trame de demande d’Echo. Compléter, les informations de la couche Ethernet sur le tableau ci-dessous. Justifier les adresses MAC."
   ]
  },
  {
   "cell_type": "markdown",
   "metadata": {},
   "source": [
    "<div style=\"width:80%; \n",
    "     display: block;\n",
    "     margin-left: auto;\n",
    "     margin-right: auto \"><img src=\"./img/DR2.png\"></img></div>"
   ]
  },
  {
   "cell_type": "markdown",
   "metadata": {},
   "source": [
    "<div style=\"width:80%; \n",
    "     display: block;\n",
    "     margin-left: auto;\n",
    "     margin-right: auto \"><img src=\"./img/wireshark10_c.png\"></img></div>"
   ]
  },
  {
   "cell_type": "markdown",
   "metadata": {},
   "source": [
    "<div style=\"width:80%; \n",
    "     display: block;\n",
    "     margin-left: auto;\n",
    "     margin-right: auto \"><img src=\"./img/DR2_1_c.png\"></img></div>"
   ]
  },
  {
   "cell_type": "markdown",
   "metadata": {},
   "source": [
    "<span style=\"color:#C00000;\">La réponse à la demande d’Echo est établie par l’ordinateur voisin à destination de votre ordinateur. **L’adresse MAC source** correspond à **l’adresse physique l’ordinateur voisin** et **l’adresse MAC destinataire** correspond à **l’adresse physique de votre carte réseau**.</span>"
   ]
  },
  {
   "cell_type": "markdown",
   "metadata": {},
   "source": [
    "<br>"
   ]
  },
  {
   "cell_type": "markdown",
   "metadata": {},
   "source": [
    "**Question 18** : Sélectionner la couche « IP » (Internet) de cette trame de demande d’Echo. Compléter, les informations de la couche Internet sur le tableau ci-dessus. Justifier les valeurs des adresses IP."
   ]
  },
  {
   "cell_type": "markdown",
   "metadata": {},
   "source": [
    "<div style=\"width:80%; \n",
    "     display: block;\n",
    "     margin-left: auto;\n",
    "     margin-right: auto \"><img src=\"./img/wireshark11_c.png\"></img></div>"
   ]
  },
  {
   "cell_type": "markdown",
   "metadata": {},
   "source": [
    "<div style=\"width:80%; \n",
    "     display: block;\n",
    "     margin-left: auto;\n",
    "     margin-right: auto \"><img src=\"./img/DR2_2_c.png\"></img></div>"
   ]
  },
  {
   "cell_type": "markdown",
   "metadata": {},
   "source": [
    "<span style=\"color:#C00000;\">La réponse à la demande d’Echo est établie par l’ordinateur voisin à destination de votre ordinateur. **L’adresse IP source** correspond à **l’adresse IP de l’ordinateur voisin** et **l’adresse IP destinataire** correspond à **l’adresse IP de votre carte réseau**.</span>"
   ]
  },
  {
   "cell_type": "markdown",
   "metadata": {},
   "source": [
    "<br>"
   ]
  },
  {
   "cell_type": "markdown",
   "metadata": {},
   "source": [
    "**Question 19** : Sélectionner la couche « ICMP » de cette trame de demande d’Echo. Compléter, les informations de la couche ICMP sur le tableau ci-dessus. Justifier qu’il s’agit d’une réponse à une demande d’Echo."
   ]
  },
  {
   "cell_type": "markdown",
   "metadata": {},
   "source": [
    "<div style=\"width:80%; \n",
    "     display: block;\n",
    "     margin-left: auto;\n",
    "     margin-right: auto \"><img src=\"./img/wireshark12_c.png\"></img></div>"
   ]
  },
  {
   "cell_type": "markdown",
   "metadata": {},
   "source": [
    "<div style=\"width:80%; \n",
    "     display: block;\n",
    "     margin-left: auto;\n",
    "     margin-right: auto \"><img src=\"./img/DR2_3_c.png\"></img></div>"
   ]
  },
  {
   "cell_type": "markdown",
   "metadata": {},
   "source": [
    "<span style=\"color:#C00000;\">Le type a pour valeur **0,** il s’agit donc un **message ICMP de réponse à une demande d’Echo**.</span>"
   ]
  },
  {
   "cell_type": "markdown",
   "metadata": {},
   "source": [
    "<br>"
   ]
  },
  {
   "cell_type": "markdown",
   "metadata": {},
   "source": [
    "## 3 – PROTOCOLE ARP (ADRESS RESOLUTION PROTOCOL)"
   ]
  },
  {
   "cell_type": "markdown",
   "metadata": {},
   "source": [
    "### 3.1 – Introduction"
   ]
  },
  {
   "cell_type": "markdown",
   "metadata": {},
   "source": [
    "*Le protocole ARP (Address Resolution Protocol) permet de connaître l'adresse physique d'une carte réseau correspondant à une adresse IP, c'est pour cela qu'il s'appelle Protocole de résolution d'adresse.*"
   ]
  },
  {
   "cell_type": "markdown",
   "metadata": {},
   "source": [
    "*Pour faire correspondre les adresses physiques aux adresses logiques, le protocole ARP interroge les machines du réseau pour connaître leur adresse physique, puis crée une table de correspondance entre les adresses logiques et les adresses physiques dans une mémoire cache.*"
   ]
  },
  {
   "cell_type": "markdown",
   "metadata": {},
   "source": [
    "*Lorsqu'une machine doit communiquer avec une autre, elle consulte la table de correspondance. Si l'adresse demandée ne se trouve pas dans la table, le protocole ARP émet une requête sur le réseau. L'ensemble des machines du réseau vont comparer cette adresse logique à la leur. Si l'une d'entre-elles s'identifie à cette adresse, la machine va répondre à ARP, le couple d'adresses va être stocké dans la table de correspondance et la communication va alors pouvoir avoir lieu.*"
   ]
  },
  {
   "cell_type": "markdown",
   "metadata": {},
   "source": [
    "<table width=\"100%\"><tr><td width=\"10%\"><img src=\"./img/lampe.png\" width=\"70%\"></td><td width=\"90%\"><div style=\"font-size:10.5pt;font-weight:bold;text-align:left\">Voir le document ressource « Protocole ARP »</div></td></tr></table>"
   ]
  },
  {
   "cell_type": "markdown",
   "metadata": {},
   "source": [
    "<br>"
   ]
  },
  {
   "cell_type": "markdown",
   "metadata": {},
   "source": [
    "### 3.2 – Commandes « arp -a » et « arp -d * »"
   ]
  },
  {
   "cell_type": "markdown",
   "metadata": {},
   "source": [
    "*La commande « arp -a » permet d'afficher une table des adresses MAC associées aux adresses IP de certaines machines du réseau.*"
   ]
  },
  {
   "cell_type": "markdown",
   "metadata": {},
   "source": [
    "**Question 20** : Lancer l’invite de commande (cmd). Exécuter la commande « arp -a». Vérifier que l’ordinateur voisin est présent dans cette table. Vérifier que l’adresse IP de l’ordinateur voisin correspond bien à son adresse MAC."
   ]
  },
  {
   "cell_type": "markdown",
   "metadata": {},
   "source": [
    "<div style=\"width:80%; \n",
    "     display: block;\n",
    "     margin-left: auto;\n",
    "     margin-right: auto \"><img src=\"./img/arp1_c.png\"></img></div>"
   ]
  },
  {
   "cell_type": "markdown",
   "metadata": {},
   "source": [
    "<span style=\"color:#C00000;\">L’ordinateur voisin est bien présent dans cette table et la correspondance Adresse IP/Adresse MAC est correcte : **Adresse IP : 172.20.250.180**\t; **Adresse MAC : c4:34:6b:59:48:ff**.</span>"
   ]
  },
  {
   "cell_type": "markdown",
   "metadata": {},
   "source": [
    "<br>"
   ]
  },
  {
   "cell_type": "markdown",
   "metadata": {},
   "source": [
    "*L’ordinateur associe déjà un certain nombre d'adresses MAC d'autres machines du réseau à des adresses IP du réseau du lycée.*"
   ]
  },
  {
   "cell_type": "markdown",
   "metadata": {},
   "source": [
    "**Question 21** : Exécuter la commande « arp -d $\\text{*}$» (attention à l’espace entre le d et $\\text{*}$). Exécuter ensuite à nouveau la commande « arp -a». Indiquer le rôle de la commande « arp -d $\\text{*}$»."
   ]
  },
  {
   "cell_type": "markdown",
   "metadata": {},
   "source": [
    "<div style=\"width:80%; \n",
    "     display: block;\n",
    "     margin-left: auto;\n",
    "     margin-right: auto \"><img src=\"./img/arp2_c.png\"></img></div>"
   ]
  },
  {
   "cell_type": "markdown",
   "metadata": {},
   "source": [
    "<span style=\"color:#C00000;\">La commande « **arp –d *** » permet **d’effacer la table arp**.</span>"
   ]
  },
  {
   "cell_type": "markdown",
   "metadata": {},
   "source": [
    "<br>"
   ]
  },
  {
   "cell_type": "markdown",
   "metadata": {},
   "source": [
    "**Question 22** : Tester à nouveau la communication avec le PC voisin. Exécuter ensuite à nouveau la commande « arp -a»."
   ]
  },
  {
   "cell_type": "markdown",
   "metadata": {},
   "source": [
    "<div style=\"width:80%; \n",
    "     display: block;\n",
    "     margin-left: auto;\n",
    "     margin-right: auto \"><img src=\"./img/arp3_c.png\"></img></div>"
   ]
  },
  {
   "cell_type": "markdown",
   "metadata": {},
   "source": [
    "<br>"
   ]
  },
  {
   "cell_type": "markdown",
   "metadata": {},
   "source": [
    "### 3.3 – Capture de trame"
   ]
  },
  {
   "cell_type": "markdown",
   "metadata": {},
   "source": [
    "**Question 23** : Lancer à nouveau le logiciel Wireshark (Attention ne pas lancer la capture pour l’instant). Sélectionner la carte réseau Ethernet."
   ]
  },
  {
   "cell_type": "markdown",
   "metadata": {},
   "source": [
    "<br>"
   ]
  },
  {
   "cell_type": "markdown",
   "metadata": {},
   "source": [
    "**Question 24** : Dans l'invite de commande effacer la table arp. Toujours, dans l’invite de commande, écrire la commande « ping » sur l’adresse IP de l’ordinateur voisin sans la valider pour l’instant."
   ]
  },
  {
   "cell_type": "markdown",
   "metadata": {},
   "source": [
    "<div style=\"width:80%; \n",
    "     display: block;\n",
    "     margin-left: auto;\n",
    "     margin-right: auto \"><img src=\"./img/ping4_c.png\"></img></div>"
   ]
  },
  {
   "cell_type": "markdown",
   "metadata": {},
   "source": [
    "<br>"
   ]
  },
  {
   "cell_type": "markdown",
   "metadata": {},
   "source": [
    "**Question 25** : Lancer la capture sur le logiciel Wireshark puis valider la commande « ping ». Arrêter la capture une fois l’exécution de la commande « ping » terminée. Enregistrer la capture sous le nom « ARP »."
   ]
  },
  {
   "cell_type": "markdown",
   "metadata": {},
   "source": [
    "<div style=\"width:80%; \n",
    "     display: block;\n",
    "     margin-left: auto;\n",
    "     margin-right: auto \"><img src=\"./img/wireshark13_c.png\"></img></div>"
   ]
  },
  {
   "cell_type": "markdown",
   "metadata": {},
   "source": [
    "<br>"
   ]
  },
  {
   "cell_type": "markdown",
   "metadata": {},
   "source": [
    "*En appliquant le filtre « **arp&&eth.addr== Adresse_mac_ordinateur** », on ne conserve que les trames dont le protocole est ARP et qui sont destinées ou issues de l’ordinateur dont l'adresse mac est spécifiée.*"
   ]
  },
  {
   "cell_type": "markdown",
   "metadata": {},
   "source": [
    "**Question 26** : Taper dans le champ « Filter » l’expression précédente. Cliquer sur « Apply »."
   ]
  },
  {
   "cell_type": "markdown",
   "metadata": {},
   "source": [
    "<div style=\"width:90%; \n",
    "     display: block;\n",
    "     margin-left: auto;\n",
    "     margin-right: auto \"><img src=\"./img/wireshark14_c.png\"></img></div>"
   ]
  },
  {
   "cell_type": "markdown",
   "metadata": {},
   "source": [
    "<br>"
   ]
  },
  {
   "cell_type": "markdown",
   "metadata": {},
   "source": [
    "### 3.4 – Trame de requête"
   ]
  },
  {
   "cell_type": "markdown",
   "metadata": {},
   "source": [
    "*Parmi les trames affichées, il y a des trames de requête ARP « **who has … ?** » et les trames de réponse « **… is at …** ».*"
   ]
  },
  {
   "cell_type": "markdown",
   "metadata": {},
   "source": [
    "**Question 27** : Sélectionner une trame de requête « who has...? »."
   ]
  },
  {
   "cell_type": "markdown",
   "metadata": {},
   "source": [
    "<div style=\"width:90%; \n",
    "     display: block;\n",
    "     margin-left: auto;\n",
    "     margin-right: auto \"><img src=\"./img/wireshark15_c.png\"></img></div>"
   ]
  },
  {
   "cell_type": "markdown",
   "metadata": {},
   "source": [
    "<br>"
   ]
  },
  {
   "cell_type": "markdown",
   "metadata": {},
   "source": [
    "**Question 28** : Sélectionner la couche « Ethernet » (Interface) de la trame de requête « who has...? ». Compléter, les informations concernant la couche « Ethernet », sur le tableau ci-dessous. Justifier la valeur des adresses physiques relevées."
   ]
  },
  {
   "cell_type": "markdown",
   "metadata": {},
   "source": [
    "<div style=\"width:90%; \n",
    "     display: block;\n",
    "     margin-left: auto;\n",
    "     margin-right: auto \"><img src=\"./img/DR3.png\"></img></div>"
   ]
  },
  {
   "cell_type": "markdown",
   "metadata": {},
   "source": [
    "<div style=\"width:90%; \n",
    "     display: block;\n",
    "     margin-left: auto;\n",
    "     margin-right: auto \"><img src=\"./img/wireshark16_c.png\"></img></div>"
   ]
  },
  {
   "cell_type": "markdown",
   "metadata": {},
   "source": [
    "<div style=\"width:90%; \n",
    "     display: block;\n",
    "     margin-left: auto;\n",
    "     margin-right: auto \"><img src=\"./img/DR3_1_c.png\"></img></div>"
   ]
  },
  {
   "cell_type": "markdown",
   "metadata": {},
   "source": [
    "<span style=\"color:#C00000;\">La requête ARP est établie par votre l’ordinateur : **L’adresse MAC source** correspond à** l’adresse physique de votre ordinateur**. **L'adresse MAC du destinataire** est **inconnue**, la trame est **envoyée à toutes les machines** du réseau. Pour signifier qu'une trame est envoyée à toute les machines du réseau, on utilise l'adresse MAC particulière: **ff:ff:ff:ff:ff:ff** appelée **adresse de \"broadcast\"**.</span>"
   ]
  },
  {
   "cell_type": "markdown",
   "metadata": {},
   "source": [
    "<br>"
   ]
  },
  {
   "cell_type": "markdown",
   "metadata": {},
   "source": [
    "**Question 29** : \tSélectionner la couche « ARP »  de la trame de requête « who has...? ». Compléter, les informations concernant la couche « ARP », sur le tableau ci-dessous. Justifier les valeurs des adresses IP et physiques."
   ]
  },
  {
   "cell_type": "markdown",
   "metadata": {},
   "source": [
    "<div style=\"width:90%; \n",
    "     display: block;\n",
    "     margin-left: auto;\n",
    "     margin-right: auto \"><img src=\"./img/wireshark17_c.png\"></img></div>"
   ]
  },
  {
   "cell_type": "markdown",
   "metadata": {},
   "source": [
    "<div style=\"width:90%; \n",
    "     display: block;\n",
    "     margin-left: auto;\n",
    "     margin-right: auto \"><img src=\"./img/DR3_2_c.png\"></img></div>"
   ]
  },
  {
   "cell_type": "markdown",
   "metadata": {},
   "source": [
    "<span style=\"color:#C00000;\">La requête ARP est établie par votre ordinateur à destination de l’ordinateur voisin. **L’adresse IP source** correspond à **l’adresse IP de votre carte réseau** et **l’adresse IP destinataire** correspond à **l’adresse IP de l’ordinateur voisin**.</span>\n",
    "\n",
    "<span style=\"color:#C00000;\">La requête ARP est établie par votre l’ordinateur : **L’adresse MAC source** correspond à **l’adresse physique de votre ordinateur**. **L'adresse MAC du destinataire est inconnue**, au niveau ARP elle est notée **00:00:00:00:00:00**.</span>"
   ]
  },
  {
   "cell_type": "markdown",
   "metadata": {},
   "source": [
    "<br>"
   ]
  },
  {
   "cell_type": "markdown",
   "metadata": {},
   "source": [
    "### 3.5 – Trame de réponse"
   ]
  },
  {
   "cell_type": "markdown",
   "metadata": {},
   "source": [
    "**Question 30** : Sélectionner une trame de requête « … is at ...? ». "
   ]
  },
  {
   "cell_type": "markdown",
   "metadata": {},
   "source": [
    "<div style=\"width:90%; \n",
    "     display: block;\n",
    "     margin-left: auto;\n",
    "     margin-right: auto \"><img src=\"./img/wireshark18_c.png\"></img></div>"
   ]
  },
  {
   "cell_type": "markdown",
   "metadata": {},
   "source": [
    "<br>"
   ]
  },
  {
   "cell_type": "markdown",
   "metadata": {},
   "source": [
    "**Question 31** : Sélectionner la couche « Ethernet » (Interface) de la trame de requête « ... is at ... ». Compléter, les informations concernant la couche « Ethernet », sur le tableau ci-dessous. Justifier la valeur des adresses physiques relevées."
   ]
  },
  {
   "cell_type": "markdown",
   "metadata": {},
   "source": [
    "<div style=\"width:90%; \n",
    "     display: block;\n",
    "     margin-left: auto;\n",
    "     margin-right: auto \"><img src=\"./img/DR3.png\"></img></div>"
   ]
  },
  {
   "cell_type": "markdown",
   "metadata": {},
   "source": [
    "<div style=\"width:90%; \n",
    "     display: block;\n",
    "     margin-left: auto;\n",
    "     margin-right: auto \"><img src=\"./img/wireshark19_c.png\"></img></div>"
   ]
  },
  {
   "cell_type": "markdown",
   "metadata": {},
   "source": [
    "<div style=\"width:90%; \n",
    "     display: block;\n",
    "     margin-left: auto;\n",
    "     margin-right: auto \"><img src=\"./img/DR3_3_c.png\"></img></div>"
   ]
  },
  {
   "cell_type": "markdown",
   "metadata": {},
   "source": [
    "<span style=\"color:#C00000;\">La réponse à la requête est établie par l’ordinateur voisin à destination de votre ordinateur. **L’adresse MAC source** correspond à **l’adresse physique l’ordinateur voisin** et **l’adresse MAC destinataire** correspond à **l’adresse physique de votre carte réseau**.</span>"
   ]
  },
  {
   "cell_type": "markdown",
   "metadata": {},
   "source": [
    "<br>"
   ]
  },
  {
   "cell_type": "markdown",
   "metadata": {},
   "source": [
    "**Question 32** : \tSélectionner la couche « ARP »  de la trame de requête « ... is at ... ». Compléter, les informations concernant la couche « ARP », sur le tableau ci-dessous. Justifier qu’il s’agit bien d’une réponse ARP."
   ]
  },
  {
   "cell_type": "markdown",
   "metadata": {},
   "source": [
    "<div style=\"width:90%; \n",
    "     display: block;\n",
    "     margin-left: auto;\n",
    "     margin-right: auto \"><img src=\"./img/wireshark20_c.png\"></img></div>"
   ]
  },
  {
   "cell_type": "markdown",
   "metadata": {},
   "source": [
    "<div style=\"width:90%; \n",
    "     display: block;\n",
    "     margin-left: auto;\n",
    "     margin-right: auto \"><img src=\"./img/DR3_4_c.png\"></img></div>"
   ]
  },
  {
   "cell_type": "markdown",
   "metadata": {},
   "source": [
    "<span style=\"color:#C00000;\">La valeur de l’Opcode est **2,** il s’agit donc d’une **réponse à une requête ARP**.</span>"
   ]
  },
  {
   "cell_type": "markdown",
   "metadata": {},
   "source": [
    "<br>"
   ]
  },
  {
   "cell_type": "markdown",
   "metadata": {},
   "source": [
    "### 3.6 – Conclusion"
   ]
  },
  {
   "cell_type": "markdown",
   "metadata": {},
   "source": [
    "**Question 33** : Appliquer le filtre « **(icmp||arp)&&eth.addr== Adresse_mac_ordinateur** » permettant de récupérer également les trames ICMP transmises lors du ping.."
   ]
  },
  {
   "cell_type": "markdown",
   "metadata": {},
   "source": [
    "<div style=\"width:90%; \n",
    "     display: block;\n",
    "     margin-left: auto;\n",
    "     margin-right: auto \"><img src=\"./img/wireshark20_c.png\"></img></div>"
   ]
  },
  {
   "cell_type": "markdown",
   "metadata": {},
   "source": [
    "<br>"
   ]
  },
  {
   "cell_type": "markdown",
   "metadata": {},
   "source": [
    "**Question 34** : Justifier la chronologie des trames ARP et ICMP."
   ]
  },
  {
   "cell_type": "markdown",
   "metadata": {},
   "source": [
    "<span style=\"color:#C00000;\">Avant de pouvoir réaliser la commande « ping », votre ordinateur doit connaître l’adresse physique de l’ordinateur voisin. Pour cela il réalise une **requête ARP**. Lorsque l’ordinateur voisin renvoie la réponse à la requête ARP, votre ordinateur réalise la commande « ping » en envoyant **4 demandes d’Echo**. L’ordinateur voisin étant accessible émet en alternance **4 réponses aux demandes d’Echo**.</span>"
   ]
  },
  {
   "cell_type": "code",
   "execution_count": null,
   "metadata": {},
   "outputs": [],
   "source": []
  }
 ],
 "metadata": {
  "kernelspec": {
   "display_name": "Python 3",
   "language": "python",
   "name": "python3"
  },
  "language_info": {
   "codemirror_mode": {
    "name": "ipython",
    "version": 3
   },
   "file_extension": ".py",
   "mimetype": "text/x-python",
   "name": "python",
   "nbconvert_exporter": "python",
   "pygments_lexer": "ipython3",
   "version": "3.7.1"
  }
 },
 "nbformat": 4,
 "nbformat_minor": 2
}
